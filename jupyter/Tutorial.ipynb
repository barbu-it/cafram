{
 "cells": [
  {
   "cell_type": "markdown",
   "id": "9adb789d",
   "metadata": {},
   "source": [
    "# Tutorial\n",
    "\n",
    "\n",
    "This tutoriel should help you to better understand how cafram works.\n",
    "\n",
    "## Howto - Create basic config\n",
    "\n",
    "Let's imagine a basic application that create a list of file from and apply a list of filters to them. Let's start by modelize how we would control this application, and we come with this configuration:"
   ]
  },
  {
   "cell_type": "code",
   "execution_count": 1,
   "id": "60ff90fb",
   "metadata": {},
   "outputs": [],
   "source": [
    "import yaml\n",
    "import json\n",
    "from pprint import pprint\n",
    "\n",
    "yaml_config = \"\"\"\n",
    "version: 1\n",
    "config:\n",
    "  create_file: True\n",
    "  backups: 3\n",
    "  backup_prefix: null\n",
    "  nested_dict:\n",
    "    key1: val1\n",
    "    key2: val2\n",
    "  \n",
    "files:\n",
    "  - name: hello\n",
    "    filters:\n",
    "      - author\n",
    "  - name: world\n",
    "  \n",
    "filters:\n",
    "  content:\n",
    "    prepend: \"Added at first\"\n",
    "    append: \"Added at last\"\n",
    "  author:\n",
    "    name: MyName\n",
    "    date: True\n",
    "\"\"\"\n",
    "\n",
    "# Load the yaml config python variable\n",
    "config = yaml.safe_load(yaml_config)\n"
   ]
  },
  {
   "cell_type": "markdown",
   "id": "cca98c8a",
   "metadata": {},
   "source": [
    "Then our configuration looks like:"
   ]
  },
  {
   "cell_type": "code",
   "execution_count": 2,
   "id": "637d9c46",
   "metadata": {},
   "outputs": [
    {
     "name": "stdout",
     "output_type": "stream",
     "text": [
      "{\n",
      "  \"version\": 1,\n",
      "  \"config\": {\n",
      "    \"create_file\": true,\n",
      "    \"backups\": 3,\n",
      "    \"backup_prefix\": null,\n",
      "    \"nested_dict\": {\n",
      "      \"key1\": \"val1\",\n",
      "      \"key2\": \"val2\"\n",
      "    }\n",
      "  },\n",
      "  \"files\": [\n",
      "    {\n",
      "      \"name\": \"hello\",\n",
      "      \"filters\": [\n",
      "        \"author\"\n",
      "      ]\n",
      "    },\n",
      "    {\n",
      "      \"name\": \"world\"\n",
      "    }\n",
      "  ],\n",
      "  \"filters\": {\n",
      "    \"content\": {\n",
      "      \"prepend\": \"Added at first\",\n",
      "      \"append\": \"Added at last\"\n",
      "    },\n",
      "    \"author\": {\n",
      "      \"name\": \"MyName\",\n",
      "      \"date\": true\n",
      "    }\n",
      "  }\n",
      "}\n"
     ]
    }
   ],
   "source": [
    "print (json.dumps(config, indent=2))\n"
   ]
  },
  {
   "cell_type": "markdown",
   "id": "ddf2c210",
   "metadata": {},
   "source": [
    "## Learn - The three object type\n",
    "\n",
    "\n",
    "The thumb of rule is the following:\n",
    "\n",
    "\n",
    "* ConfDict\n",
    "    * Usage: For dictionnary store\n",
    "    * Children: Yes\n",
    "    * Type: must be a dict\n",
    "* ConfAttr\n",
    "    * Like ConfDict but provides the attribute acces to nested object\n",
    "* ConfList\n",
    "    * Usage: For list store\n",
    "    * Children: Yes\n",
    "    * Type: must be a list\n",
    "* ConfVal:\n",
    "    * Usage: Any atomic item\n",
    "    * Children: No\n",
    "    * Type: Anything json serializable\n",
    "* Native Type: None,Bool,Int,Str,Dict,List\n",
    "    * Usage: Raw json compatible data\n",
    "    * Children: No\n",
    "    * Type: Anything json serializable\n",
    "    * Does not provide anything other default object methods.\n",
    "    \n",
    "    \n",
    "You always have to thing on what is possible in json or not, and adapt to your application structure.\n",
    "\n",
    "Rule of thumbs: If not serializable, don't do it. I specifically think about OrderedDicts."
   ]
  },
  {
   "cell_type": "markdown",
   "id": "100ea8c8",
   "metadata": {},
   "source": [
    "## Howto - Make magic"
   ]
  },
  {
   "cell_type": "code",
   "execution_count": 3,
   "id": "e2bc6516",
   "metadata": {},
   "outputs": [
    {
     "name": "stdout",
     "output_type": "stream",
     "text": [
      "\n",
      "===================================================================\n",
      "== Dump of cafram.NodeMap.app 140025804049328\n",
      "===================================================================\n",
      "\n",
      "  Infos:\n",
      "    ID: 140025804049328\n",
      "    Kind: NodeMap\n",
      "    Ident: app\n",
      "    Repr: NodeMap.140025804049328 app\n",
      "    String: NodeMap:app\n",
      "    MRO: NodeMap-> NodeDict-> NodeVal-> Base-> object\n",
      "\n",
      "  Config:\n",
      "  -----------------\n",
      "    version: 1\n",
      "\n",
      "\n",
      "\n"
     ]
    }
   ],
   "source": [
    "from cafram.nodes_conf import NodeAuto\n",
    "\n",
    "app0 = NodeAuto(ident=\"app\", payload=config, autoconf=-1)\n",
    "app0.dump()\n"
   ]
  },
  {
   "cell_type": "markdown",
   "id": "78c19a74",
   "metadata": {},
   "source": [
    "Well, basically, cafram can generate the structure for you. You can change the autoconf to 0 to disable it, -1 to do all the conf, and finally an interger to mention how deep you want to create nodes.\n",
    "\n",
    "To understand levels:\n",
    "  * `-1`: Create object the whole tree\n",
    "  * `0`: Do not create object automagically, all is native unless overrided\n",
    "  * `1`: Create only the root object\n",
    "  * `2`: Create only nodes 2 level deep\n",
    "  * etc ...\n",
    "\n",
    "It's important to note that autoconf mode only create ConfDict and ConfList. So it does not take into account leafs.\n"
   ]
  },
  {
   "cell_type": "code",
   "execution_count": 4,
   "id": "0815981e",
   "metadata": {},
   "outputs": [
    {
     "name": "stdout",
     "output_type": "stream",
     "text": [
      "{'backup_prefix': None, 'backups': 3, 'create_file': True}\n",
      "{'nested_dict': NodeMap.140025672256816 nested_dict}\n"
     ]
    }
   ],
   "source": [
    "pprint (app0.config.get_value())\n",
    "pprint (app0.config.get_children())"
   ]
  },
  {
   "cell_type": "code",
   "execution_count": 5,
   "id": "2671b5b3",
   "metadata": {},
   "outputs": [
    {
     "name": "stdout",
     "output_type": "stream",
     "text": [
      "\n",
      "===================================================================\n",
      "== Dump of cafram.NodeMap.app 140025672698320\n",
      "===================================================================\n",
      "\n",
      "  Infos:\n",
      "    ID: 140025672698320\n",
      "    Kind: NodeMap\n",
      "    Ident: app\n",
      "    Repr: NodeMap.140025672698320 app\n",
      "    String: NodeMap:app\n",
      "    MRO: NodeMap-> NodeDict-> NodeVal-> Base-> object\n",
      "\n",
      "  Config:\n",
      "  -----------------\n",
      "    version: 1\n",
      "    config:\n",
      "      create_file: true\n",
      "      backups: 3\n",
      "      backup_prefix:\n",
      "      nested_dict:\n",
      "        key1: val1\n",
      "        key2: val2\n",
      "    files:\n",
      "    - name: hello\n",
      "      filters:\n",
      "      - author\n",
      "    - name: world\n",
      "    filters:\n",
      "      content:\n",
      "        prepend: Added at first\n",
      "        append: Added at last\n",
      "      author:\n",
      "        name: MyName\n",
      "        date: true\n",
      "\n",
      "\n",
      "\n",
      "\n",
      "===================================================================\n",
      "== Dump of cafram.NodeMap.app 140025672697024\n",
      "===================================================================\n",
      "\n",
      "  Infos:\n",
      "    ID: 140025672697024\n",
      "    Kind: NodeMap\n",
      "    Ident: app\n",
      "    Repr: NodeMap.140025672697024 app\n",
      "    String: NodeMap:app\n",
      "    MRO: NodeMap-> NodeDict-> NodeVal-> Base-> object\n",
      "\n",
      "  Config:\n",
      "  -----------------\n",
      "    version: 1\n",
      "\n",
      "\n",
      "\n"
     ]
    }
   ],
   "source": [
    "# Just\n",
    "app0 = NodeAuto(ident=\"app\", payload=config, autoconf=1)\n",
    "app0.dump()\n",
    "\n",
    "app0 = NodeAuto(ident=\"app\", payload=config, autoconf=3)\n",
    "app0.dump()"
   ]
  },
  {
   "cell_type": "markdown",
   "id": "8647bce6",
   "metadata": {},
   "source": [
    "But that was too easy, too magical, let's see how to build our application around this config."
   ]
  },
  {
   "cell_type": "markdown",
   "id": "94a13b19",
   "metadata": {},
   "source": [
    "## Howto - Map one class to config"
   ]
  },
  {
   "cell_type": "markdown",
   "id": "4f5d3c71",
   "metadata": {},
   "source": [
    "We now have our configuration, let's map it to python object. For this purpose, we will reproduce the hierarchical structure we want to work with."
   ]
  },
  {
   "cell_type": "code",
   "execution_count": 6,
   "id": "8eac543c",
   "metadata": {},
   "outputs": [],
   "source": [
    "from cafram.nodes_conf import NodeMap\n",
    "\n",
    "class MyAppV1(NodeMap):\n",
    "    \"This is our base application\"\n",
    "    \n",
    "    version_min = 1\n",
    "    version_max = 1\n",
    "    \n",
    "    def show_version(self):\n",
    "        \"Show version or raise Exception if not compatible\"\n",
    "        if self.version_min <= self.version <= self.version_max:\n",
    "            print (f\"Current version is {self.version}\")\n",
    "        else:\n",
    "            raise Exception(f\"Unsupported version: {self.version}\")\n",
    "    \n",
    "    \n",
    "# Instanciate our app with config\n",
    "app1 = MyAppV1(ident=\"app\", payload=config)\n",
    "\n",
    "\n"
   ]
  },
  {
   "cell_type": "markdown",
   "id": "7450ad14",
   "metadata": {},
   "source": [
    "Then we can inspect our app, thanks to the `.dump()` method, available on every nodes:"
   ]
  },
  {
   "cell_type": "code",
   "execution_count": 7,
   "id": "81d1672e",
   "metadata": {},
   "outputs": [
    {
     "name": "stdout",
     "output_type": "stream",
     "text": [
      "\n",
      "===================================================================\n",
      "== Dump of cafram.MyAppV1.app 140025672698608\n",
      "===================================================================\n",
      "\n",
      "  Infos:\n",
      "    ID: 140025672698608\n",
      "    Kind: MyAppV1\n",
      "    Ident: app\n",
      "    Repr: MyAppV1.140025672698608 app\n",
      "    String: MyAppV1:app\n",
      "    MRO: MyAppV1-> NodeMap-> NodeDict-> NodeVal-> Base-> object\n",
      "\n",
      "  Config:\n",
      "  -----------------\n",
      "    version: 1\n",
      "    config:\n",
      "      create_file: true\n",
      "      backups: 3\n",
      "      backup_prefix:\n",
      "      nested_dict:\n",
      "        key1: val1\n",
      "        key2: val2\n",
      "    files:\n",
      "    - name: hello\n",
      "      filters:\n",
      "      - author\n",
      "    - name: world\n",
      "    filters:\n",
      "      content:\n",
      "        prepend: Added at first\n",
      "        append: Added at last\n",
      "      author:\n",
      "        name: MyName\n",
      "        date: true\n",
      "\n",
      "\n",
      "\n"
     ]
    }
   ],
   "source": [
    "app1.dump()\n",
    "#pprint (app.__dict__)"
   ]
  },
  {
   "cell_type": "markdown",
   "id": "b3085b1e",
   "metadata": {},
   "source": [
    "Then we can access to all parameters this way:"
   ]
  },
  {
   "cell_type": "code",
   "execution_count": 8,
   "id": "2df31931",
   "metadata": {},
   "outputs": [
    {
     "name": "stdout",
     "output_type": "stream",
     "text": [
      "Current version is 1\n",
      "Configuration: {'create_file': True, 'backups': 3, 'backup_prefix': None, 'nested_dict': {'key1': 'val1', 'key2': 'val2'}}\n"
     ]
    }
   ],
   "source": [
    "app1.show_version()\n",
    "print (\"Configuration:\", app1.config)\n"
   ]
  },
  {
   "cell_type": "markdown",
   "id": "89fdbf1c",
   "metadata": {},
   "source": [
    "However, you can't access to inner items, attributes only works on first level. That is made on purpose, this `config` dict actually represent a serializable atomic object (null/str/bool/int/dict/list). We will discover later how decompose this object in sub-object:"
   ]
  },
  {
   "cell_type": "code",
   "execution_count": 9,
   "id": "0cb5a366",
   "metadata": {},
   "outputs": [
    {
     "name": "stdout",
     "output_type": "stream",
     "text": [
      "<class 'list'>\n",
      "<class 'int'>\n",
      "<class 'dict'>\n",
      "Backups: 3\n",
      "FAIL: Configuration subkey: app1.config.backups\n",
      "'dict' object has no attribute 'backups'\n"
     ]
    }
   ],
   "source": [
    "print(type(app1.files))\n",
    "print(type(app1.version))\n",
    "print(type(app1.config))\n",
    "\n",
    "# So to access nested attribute\n",
    "print (\"Backups:\", app1.config[\"backups\"])\n",
    "\n",
    "# Direct acces don't work\n",
    "print (\"FAIL: Configuration subkey: app1.config.backups\" )\n",
    "try:\n",
    "    app1.config.backups\n",
    "except AttributeError as err:\n",
    "    print (err)"
   ]
  },
  {
   "cell_type": "markdown",
   "id": "bce8006a",
   "metadata": {},
   "source": [
    "This way we can serialize a whole config.\n",
    "\n",
    "Let's check how to create sub-objects."
   ]
  },
  {
   "cell_type": "markdown",
   "id": "3946bb4a",
   "metadata": {},
   "source": [
    "## Howto - Map generic classes to sub-config\n",
    "\n",
    "\n",
    "We associated the method `show_version()` to our app. In a case of ConfAttr, all subvalues are available as attributes. Now we want to iterate over each files and apply a filter. For this purpose, we will map the config structue to Python classes. A first attempt is:"
   ]
  },
  {
   "cell_type": "code",
   "execution_count": 10,
   "id": "f102916d",
   "metadata": {},
   "outputs": [
    {
     "name": "stdout",
     "output_type": "stream",
     "text": [
      "\n",
      "===================================================================\n",
      "== Dump of cafram.MyAppV2.app 140025671987104\n",
      "===================================================================\n",
      "\n",
      "  Infos:\n",
      "    ID: 140025671987104\n",
      "    Kind: MyAppV2\n",
      "    Ident: app\n",
      "    Repr: MyAppV2.140025671987104 app\n",
      "    String: MyAppV2:app\n",
      "    MRO: MyAppV2-> MyAppV1-> NodeMap-> NodeDict-> NodeVal-> Base-> object\n",
      "\n",
      "  Config:\n",
      "  -----------------\n",
      "    version: 1\n",
      "    config:\n",
      "      create_file: true\n",
      "      backups: 3\n",
      "      backup_prefix:\n",
      "      nested_dict:\n",
      "        key1: val1\n",
      "        key2: val2\n",
      "    files:\n",
      "    - name: hello\n",
      "      filters:\n",
      "      - author\n",
      "    - name: world\n",
      "    filters:\n",
      "      content:\n",
      "        prepend: Added at first\n",
      "        append: Added at last\n",
      "      author:\n",
      "        name: MyName\n",
      "        date: true\n",
      "\n",
      "\n",
      "\n"
     ]
    }
   ],
   "source": [
    "from cafram.nodes_conf import NodeMap, NodeDict, NodeList\n",
    "\n",
    "class MyAppV2(MyAppV1):\n",
    "    \n",
    "    conf_struct2 = [\n",
    "        {\n",
    "            \"key\": \"config\",\n",
    "            \"cls\": NodeMap,\n",
    "        },\n",
    "        {\n",
    "            \"key\": \"filters\",\n",
    "            \"cls\": NodeDict,\n",
    "        },\n",
    "        {\n",
    "            \"key\": \"files\",\n",
    "            \"cls\": NodeList,\n",
    "        },\n",
    "        \n",
    "    ]\n",
    "\n",
    "    \n",
    "app2 = MyAppV2(ident=\"app\", payload=config)\n",
    "app2.dump()\n",
    "\n"
   ]
  },
  {
   "cell_type": "markdown",
   "id": "02991584",
   "metadata": {},
   "source": [
    "The result seems similar, but when we look deeper, child nodes has been created. On the dump, object as been added between parenthesis. Indeed, we can check internal nodes:"
   ]
  },
  {
   "cell_type": "code",
   "execution_count": 11,
   "id": "efbf065a",
   "metadata": {},
   "outputs": [
    {
     "name": "stdout",
     "output_type": "stream",
     "text": [
      "\n",
      "app1 nodes:\n",
      "{}\n",
      "\n",
      "app2 nodes:\n",
      "{}\n",
      "\n",
      "app config:\n",
      "{'config': {'backup_prefix': None,\n",
      "            'backups': 3,\n",
      "            'create_file': True,\n",
      "            'nested_dict': {'key1': 'val1', 'key2': 'val2'}},\n",
      " 'files': [{'filters': ['author'], 'name': 'hello'}, {'name': 'world'}],\n",
      " 'filters': {'author': {'date': True, 'name': 'MyName'},\n",
      "             'content': {'append': 'Added at last',\n",
      "                         'prepend': 'Added at first'}},\n",
      " 'version': 1}\n"
     ]
    }
   ],
   "source": [
    "print (\"\\napp1 nodes:\")\n",
    "pprint (app1.get_children())\n",
    "print (\"\\napp2 nodes:\")\n",
    "pprint (app2.get_children())\n",
    "\n",
    "# But both config is identical\n",
    "conf1 = app1.get_value()\n",
    "conf2 = app2.get_value()\n",
    "\n",
    "\n",
    "print (\"\\napp config:\")\n",
    "pprint (conf2)\n",
    "assert conf1 == conf2"
   ]
  },
  {
   "cell_type": "markdown",
   "id": "6ab35852",
   "metadata": {},
   "source": [
    "## Learn - Access to nodes and attributes"
   ]
  },
  {
   "cell_type": "markdown",
   "id": "3711ecf5",
   "metadata": {},
   "source": [
    "And now, if we want to access to our nested attribute:"
   ]
  },
  {
   "cell_type": "code",
   "execution_count": 12,
   "id": "b68f87aa",
   "metadata": {},
   "outputs": [
    {
     "ename": "AttributeError",
     "evalue": "'dict' object has no attribute 'backups'",
     "output_type": "error",
     "traceback": [
      "\u001b[0;31m---------------------------------------------------------------------------\u001b[0m",
      "\u001b[0;31mAttributeError\u001b[0m                            Traceback (most recent call last)",
      "Cell \u001b[0;32mIn [12], line 2\u001b[0m\n\u001b[1;32m      1\u001b[0m \u001b[38;5;66;03m# So to access nested attribute\u001b[39;00m\n\u001b[0;32m----> 2\u001b[0m \u001b[38;5;28mprint\u001b[39m (\u001b[38;5;124m\"\u001b[39m\u001b[38;5;124mBackups1: \u001b[39m\u001b[38;5;124m\"\u001b[39m, \u001b[43mapp2\u001b[49m\u001b[38;5;241;43m.\u001b[39;49m\u001b[43mconfig\u001b[49m\u001b[38;5;241;43m.\u001b[39;49m\u001b[43mbackups\u001b[49m)\n\u001b[1;32m      3\u001b[0m \u001b[38;5;28mprint\u001b[39m (\u001b[38;5;124m\"\u001b[39m\u001b[38;5;124mBackups2: \u001b[39m\u001b[38;5;124m\"\u001b[39m, app2\u001b[38;5;241m.\u001b[39mconfig\u001b[38;5;241m.\u001b[39mget_value()[\u001b[38;5;124m'\u001b[39m\u001b[38;5;124mbackups\u001b[39m\u001b[38;5;124m'\u001b[39m])\n\u001b[1;32m      5\u001b[0m \u001b[38;5;66;03m# Item acces don't work\u001b[39;00m\n",
      "\u001b[0;31mAttributeError\u001b[0m: 'dict' object has no attribute 'backups'"
     ]
    }
   ],
   "source": [
    "# So to access nested attribute\n",
    "print (\"Backups1: \", app2.config.backups)\n",
    "print (\"Backups2: \", app2.config.get_value()['backups'])\n",
    "\n",
    "# Item acces don't work\n",
    "print (\"FAIL: Configuration subkey: app2.config['backups'], because config is now a node, not a dict anymore\" )\n",
    "\n",
    "print (\"Backups3: \" )\n",
    "try:\n",
    "    app2.config[\"backups\"]\n",
    "except TypeError as err:\n",
    "    print (err)"
   ]
  },
  {
   "cell_type": "markdown",
   "id": "d8b1fab2",
   "metadata": {},
   "source": []
  },
  {
   "cell_type": "markdown",
   "id": "94b2fc1f",
   "metadata": {},
   "source": [
    "## Howto - Map custom classes to sub-config\n",
    "\n",
    "\n",
    "Ok, cool, we mapped json object to python object, but that does not let me add method. Wrigth, so let's create our custom classes, inherited from the basic cafram node types, we can create our new (empty) classes:"
   ]
  },
  {
   "cell_type": "code",
   "execution_count": null,
   "id": "82ed6beb",
   "metadata": {},
   "outputs": [],
   "source": [
    "class Config(NodeMap):\n",
    "    pass\n",
    "\n",
    "class Filters(NodeDict):\n",
    "    pass\n",
    "\n",
    "class Files(NodeList):\n",
    "    pass\n",
    "\n",
    "\n",
    "class MyAppV2(MyAppV1):\n",
    "    \n",
    "    conf_struct2 = [\n",
    "        {\n",
    "            \"key\": \"config\",\n",
    "            \"cls\": Config,\n",
    "        },\n",
    "        {\n",
    "            \"key\": \"filters\",\n",
    "            \"cls\": Filters,\n",
    "        },\n",
    "        {\n",
    "            \"key\": \"files\",\n",
    "            \"cls\": Files,\n",
    "        },\n",
    "        \n",
    "    ]\n",
    "    \n",
    "    \n",
    "app2 = MyAppV2(ident=\"app\", payload=config)\n",
    "pprint (app2.get_children())\n",
    "pprint (app2.get_value())"
   ]
  },
  {
   "cell_type": "markdown",
   "id": "e118a38b",
   "metadata": {},
   "source": [
    "Well, we have our object assigned to python classes! Let's build our full tree:"
   ]
  },
  {
   "cell_type": "code",
   "execution_count": null,
   "id": "9e1ef951",
   "metadata": {},
   "outputs": [],
   "source": [
    "from cafram.nodes_conf import *\n",
    "\n",
    "# App definition\n",
    "#######################\n",
    "\n",
    "\n",
    "# File management\n",
    "# ----------------\n",
    "class Config(NodeMap):\n",
    "    \"Application config\"\n",
    "    conf_struct2 = [\n",
    "        {\n",
    "            \"key\": \"namespace\",\n",
    "            \"cls\": NodeVal,\n",
    "        },\n",
    "    ]\n",
    "\n",
    "\n",
    "# Filter management\n",
    "# ----------------\n",
    "class Filter(NodeMap):\n",
    "    \"A filter configuration\"\n",
    "    pass\n",
    "\n",
    "class Filters(NodeMap):\n",
    "    \"Filter manager\"\n",
    "    conf_struct2 = Filter\n",
    "\n",
    "\n",
    "# File management\n",
    "# ----------------\n",
    "class FileFilters(NodeList):\n",
    "    \"Applied filters to file\"\n",
    "    conf_struct2 = NodeVal\n",
    "\n",
    "class File(NodeMap):\n",
    "    \"File to process\"\n",
    "\n",
    "    conf_struct2 = [\n",
    "        {\n",
    "            \"key\": \"name\",\n",
    "            \"cls\": NodeVal,\n",
    "        },\n",
    "        {\n",
    "            \"key\": \"filters\",\n",
    "            \"cls\": FileFilters,\n",
    "        },\n",
    "    ]\n",
    "\n",
    "class Files(NodeList):\n",
    "    \"File manager\"\n",
    "    conf_struct2 = File\n",
    "\n",
    " \n",
    "app2 = MyAppV2(ident=\"app\", payload=config)\n",
    "\n",
    "\n",
    "\n",
    "print (\"\\nApp nodes:\")\n",
    "pprint (app2.get_children())\n",
    "print (\"\\nApp config:\")\n",
    "pprint (app2.get_value())\n",
    "\n",
    "# print (\"\")\n",
    "# pprint (app2.filters._nodes)\n",
    "# print (\"\")\n",
    "# pprint (app2.files._nodes)"
   ]
  },
  {
   "cell_type": "markdown",
   "id": "bf7dc319",
   "metadata": {},
   "source": [
    "## Learn - Read/Write Access to config Nodes\n"
   ]
  },
  {
   "cell_type": "markdown",
   "id": "12795c03",
   "metadata": {},
   "source": [
    "Let's now see how to access attributes"
   ]
  },
  {
   "cell_type": "code",
   "execution_count": null,
   "id": "be912f86",
   "metadata": {},
   "outputs": [],
   "source": [
    "pprint ( app2.config.get_value() )\n",
    "\n",
    "pprint ( app2.config.backups )\n",
    "pprint ( app2.config.create_file )\n",
    "pprint ( app2.config.nested_dict )\n",
    "\n",
    "# But be aware that calling an object returns itself, not it's value:\n",
    "pprint ( app2.config )\n",
    "app2.config.dump2()\n",
    "\n",
    "# Let's see parent object:\n",
    "app2.dump2()\n"
   ]
  },
  {
   "cell_type": "markdown",
   "id": "fad7e960",
   "metadata": {},
   "source": [
    "## Howto - Assign defaults\n"
   ]
  },
  {
   "cell_type": "code",
   "execution_count": null,
   "id": "41a3fc10",
   "metadata": {},
   "outputs": [],
   "source": []
  },
  {
   "cell_type": "markdown",
   "id": "07aad2a4",
   "metadata": {},
   "source": []
  },
  {
   "cell_type": "code",
   "execution_count": null,
   "id": "eda14ac0",
   "metadata": {},
   "outputs": [],
   "source": []
  },
  {
   "cell_type": "markdown",
   "id": "25a84184",
   "metadata": {},
   "source": []
  },
  {
   "cell_type": "code",
   "execution_count": null,
   "id": "59eb3e1b",
   "metadata": {},
   "outputs": [],
   "source": []
  },
  {
   "cell_type": "markdown",
   "id": "817de553",
   "metadata": {},
   "source": [
    "## Howto - Assign defaults\n",
    "## Learn - Navigate the tree\n",
    "## Learn - Inspect the tree\n",
    "\n"
   ]
  },
  {
   "cell_type": "code",
   "execution_count": null,
   "id": "20c4c39f",
   "metadata": {},
   "outputs": [],
   "source": []
  },
  {
   "cell_type": "markdown",
   "id": "91084b34",
   "metadata": {},
   "source": []
  },
  {
   "cell_type": "code",
   "execution_count": null,
   "id": "d7018b86",
   "metadata": {},
   "outputs": [],
   "source": []
  },
  {
   "cell_type": "markdown",
   "id": "4f23c38a",
   "metadata": {},
   "source": []
  },
  {
   "cell_type": "code",
   "execution_count": null,
   "id": "314c63e8",
   "metadata": {},
   "outputs": [],
   "source": []
  }
 ],
 "metadata": {
  "kernelspec": {
   "display_name": "Python 3 (ipykernel)",
   "language": "python",
   "name": "python3"
  },
  "language_info": {
   "codemirror_mode": {
    "name": "ipython",
    "version": 3
   },
   "file_extension": ".py",
   "mimetype": "text/x-python",
   "name": "python",
   "nbconvert_exporter": "python",
   "pygments_lexer": "ipython3",
   "version": "3.9.12"
  }
 },
 "nbformat": 4,
 "nbformat_minor": 5
}
