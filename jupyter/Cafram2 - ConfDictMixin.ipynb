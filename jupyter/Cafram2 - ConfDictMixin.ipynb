{
 "cells": [
  {
   "cell_type": "markdown",
   "id": "a9424e4c",
   "metadata": {},
   "source": [
    "# Cafram2 Tutorial"
   ]
  },
  {
   "cell_type": "markdown",
   "id": "e9db8478",
   "metadata": {},
   "source": [
    "This tutorial should help you to get into cafram, with a tutorial application. For this purpose, let's imagine a simple app that manage git repos."
   ]
  },
  {
   "cell_type": "markdown",
   "id": "50a1bda5",
   "metadata": {},
   "source": [
    "# Base Application Example\n",
    "\n",
    "Let's start with a simple example. The idea is to store the whole program configuration in a simple configuration. For demonstration purpose, we We represent our application configuration into `app_config`, a serializable dict. Then we create an inherited `NodeConfDict` `App` class, that will represent our application."
   ]
  },
  {
   "cell_type": "code",
   "execution_count": 1,
   "id": "8f5c241e",
   "metadata": {},
   "outputs": [],
   "source": [
    "\n",
    "from cafram2.mixins.tree import ConfDictMixin, NodeConfDict\n",
    "from cafram2.nodes import Node2 as Node\n",
    "\n",
    "app_config = {\n",
    "        \"namespace\": \"username\",        \n",
    "        \"config\": {\n",
    "            \"enabled\": True,\n",
    "            \"desc\": \"This is a description\",\n",
    "            \"remote\": \"http://gitlab.com/\",\n",
    "            \"branches\": [\n",
    "                    \"main\"\n",
    "                ],\n",
    "            \"var_files\": [\n",
    "                \"first.env\",\n",
    "                \"second.env\",\n",
    "            ],\n",
    "        },\n",
    "        \"repos\": [\n",
    "            {\n",
    "                \"name\": \"my_repo1.git\",\n",
    "            },\n",
    "            {\n",
    "                \"name\": \"my_repo2.git\",\n",
    "                \"branches\": [\n",
    "                    \"main\",\n",
    "                    \"develop\"\n",
    "                ],\n",
    "                \"enabled\": False,\n",
    "            },\n",
    "            \"my_repo3.git\",\n",
    "        ],\n",
    "           \n",
    "    }\n",
    "\n",
    "# You can either configure manually your class\n",
    "\n",
    "\n",
    "class MyApp(Node):\n",
    "\n",
    "    _node_conf = [\n",
    "        {\n",
    "            \"mixin\": ConfDictMixin,\n",
    "        }\n",
    "    ]\n",
    "\n",
    "# Or use the preset Node class NodeConfDict\n",
    "class MyApp(NodeConfDict):\n",
    "    pass\n",
    "\n",
    "app = MyApp(payload=app_config)\n"
   ]
  },
  {
   "cell_type": "markdown",
   "id": "b857d296",
   "metadata": {},
   "source": [
    "We now have our Node instanciated with the following configuration. Let's use some internal cafram helpers to represent it in yaml:"
   ]
  },
  {
   "cell_type": "code",
   "execution_count": 2,
   "id": "f605c385",
   "metadata": {},
   "outputs": [
    {
     "name": "stdout",
     "output_type": "stream",
     "text": [
      "namespace: username\n",
      "config:\n",
      "  enabled: true\n",
      "  desc: This is a description\n",
      "  remote: http://gitlab.com/\n",
      "  branches:\n",
      "  - main\n",
      "  var_files:\n",
      "  - first.env\n",
      "  - second.env\n",
      "repos:\n",
      "- name: my_repo1.git\n",
      "- name: my_repo2.git\n",
      "  branches:\n",
      "  - main\n",
      "  - develop\n",
      "  enabled: false\n",
      "- my_repo3.git\n",
      "\n"
     ]
    }
   ],
   "source": [
    "from cafram2.utils import to_json, from_json, to_yaml, from_yaml\n",
    "\n",
    "print(to_yaml(app_config))"
   ]
  },
  {
   "cell_type": "markdown",
   "id": "bc68fdb5",
   "metadata": {},
   "source": [
    "At this stage, we have an App initialized with a config. Let's discover how to use it."
   ]
  },
  {
   "cell_type": "markdown",
   "id": "b4d28fcd",
   "metadata": {},
   "source": [
    "# Mixin: ConfDictMixin\n",
    "\n",
    "Now we can access to dict sub elements:"
   ]
  },
  {
   "cell_type": "code",
   "execution_count": 3,
   "id": "46d8d7ee",
   "metadata": {},
   "outputs": [
    {
     "name": "stdout",
     "output_type": "stream",
     "text": [
      "App status:\n",
      "  Namespace: username\n",
      "  Default remote: http://gitlab.com/\n",
      "  Is enabled: True\n",
      "Repos to manage: <cafram2.mixins.tree.NodeConfList object at 0x7facd2eafe20>\n"
     ]
    }
   ],
   "source": [
    "#pprint(payload_app)\n",
    "\n",
    "print (\"App status:\")\n",
    "print (f\"  Namespace: {app.namespace}\")\n",
    "print (f\"  Default remote: {app.config.remote}\")\n",
    "print (f\"  Is enabled: {app.config.enabled}\")\n",
    "\n",
    "print (f\"Repos to manage: {app.repos}\")\n"
   ]
  },
  {
   "cell_type": "markdown",
   "id": "19e08f18",
   "metadata": {},
   "source": [
    "Everything is good so far, but we have an issue with `app.repos` node, it shows object instead of content.\n",
    "\n",
    "It is important to notice containers (list and dicts) does not works the same way as immutable values, they return a subclass of `NodeConf` (which is a descendant of `CaframNode->Node->NodePayload`). The way to retrieve the content of the node is via the `get_value()` method of `ConfDictMixin`. This behavior can be changed later thanks to the `children` parameter of `ConfDictMixin`."
   ]
  },
  {
   "cell_type": "code",
   "execution_count": 4,
   "id": "a1f6df4b",
   "metadata": {},
   "outputs": [
    {
     "name": "stdout",
     "output_type": "stream",
     "text": [
      "Repos to manage: [{'name': 'my_repo1.git'}, {'name': 'my_repo2.git', 'branches': ['main', 'develop'], 'enabled': False}, 'my_repo3.git']\n"
     ]
    }
   ],
   "source": [
    "print(f\"Repos to manage: {app.repos.conf.get_value()}\")"
   ]
  },
  {
   "cell_type": "markdown",
   "id": "362a85fd",
   "metadata": {},
   "source": [
    "ConfDictMixin also provide an alias to retrieve the value, via the `value` attribute:"
   ]
  },
  {
   "cell_type": "code",
   "execution_count": 5,
   "id": "903245a3",
   "metadata": {},
   "outputs": [
    {
     "data": {
      "text/plain": [
       "True"
      ]
     },
     "execution_count": 5,
     "metadata": {},
     "output_type": "execute_result"
    }
   ],
   "source": [
    "app.repos.value == app.repos.conf.get_value()"
   ]
  },
  {
   "cell_type": "markdown",
   "id": "8babc6c6",
   "metadata": {},
   "source": [
    "However, the `value` attribute behavior may not be desired, it can be disabled by setting `value_alias: None` in the Mixin config."
   ]
  },
  {
   "cell_type": "code",
   "execution_count": 6,
   "id": "7499775e",
   "metadata": {},
   "outputs": [
    {
     "name": "stdout",
     "output_type": "stream",
     "text": [
      "Repos to manage:\n",
      "  - {'name': 'my_repo1.git'}\n",
      "  - {'name': 'my_repo2.git', 'branches': ['main', 'develop'], 'enabled': False}\n",
      "  - my_repo3.git\n"
     ]
    }
   ],
   "source": [
    "print(\"Repos to manage:\")\n",
    "\n",
    "for repo_conf in app.repos.value:\n",
    "    print (f\"  - {repo_conf}\")"
   ]
  },
  {
   "cell_type": "markdown",
   "id": "08c88b42",
   "metadata": {},
   "source": [
    "Let's make it a bit nicer:"
   ]
  },
  {
   "cell_type": "code",
   "execution_count": 7,
   "id": "9fd7fbf6",
   "metadata": {},
   "outputs": [
    {
     "name": "stdout",
     "output_type": "stream",
     "text": [
      "Repos to manage:\n",
      "  - my_repo1.git (enabled)\n",
      "  - my_repo2.git (disabled)\n",
      "  - my_repo3.git (enabled)\n"
     ]
    }
   ],
   "source": [
    "print(\"Repos to manage:\")\n",
    "\n",
    "for repo_conf in app.repos.value:\n",
    "    \n",
    "    # As we have different types of values in our list\n",
    "    status = True\n",
    "    if isinstance(repo_conf, dict):\n",
    "        name = repo_conf[\"name\"]\n",
    "        status = repo_conf.get(\"enabled\", True)\n",
    "    else:\n",
    "        name = repo_conf\n",
    "    status = \"enabled\" if status else \"disabled\"\n",
    "    \n",
    "    print (f\"  - {name} ({status})\")"
   ]
  },
  {
   "cell_type": "markdown",
   "id": "21b00590",
   "metadata": {},
   "source": [
    "Cool, we have a list of repos to manage. At this stage, let's see how we can extract some parts of the app state:"
   ]
  },
  {
   "cell_type": "code",
   "execution_count": 8,
   "id": "c61fdeea",
   "metadata": {},
   "outputs": [
    {
     "name": "stdout",
     "output_type": "stream",
     "text": [
      "{\n",
      "  \"namespace\": \"username\",\n",
      "  \"config\": {\n",
      "    \"enabled\": true,\n",
      "    \"desc\": \"This is a description\",\n",
      "    \"remote\": \"http://gitlab.com/\",\n",
      "    \"branches\": [\n",
      "      \"main\"\n",
      "    ],\n",
      "    \"var_files\": [\n",
      "      \"first.env\",\n",
      "      \"second.env\"\n",
      "    ]\n",
      "  },\n",
      "  \"repos\": [\n",
      "    {\n",
      "      \"name\": \"my_repo1.git\"\n",
      "    },\n",
      "    {\n",
      "      \"name\": \"my_repo2.git\",\n",
      "      \"branches\": [\n",
      "        \"main\",\n",
      "        \"develop\"\n",
      "      ],\n",
      "      \"enabled\": false\n",
      "    },\n",
      "    \"my_repo3.git\"\n",
      "  ]\n",
      "}\n"
     ]
    }
   ],
   "source": [
    "print(app.conf.to_json())"
   ]
  },
  {
   "cell_type": "code",
   "execution_count": 9,
   "id": "142d7362",
   "metadata": {},
   "outputs": [
    {
     "name": "stdout",
     "output_type": "stream",
     "text": [
      "- first.env\n",
      "- second.env\n",
      "\n"
     ]
    }
   ],
   "source": [
    "print(app.config.var_files.conf.to_yaml())"
   ]
  },
  {
   "cell_type": "markdown",
   "id": "13f161d6",
   "metadata": {},
   "source": [
    "## Nodes relationships\n",
    "\n",
    "Now we've seen how to extract data, let's explore node relationship. Let's start by children and the parents:"
   ]
  },
  {
   "cell_type": "code",
   "execution_count": 10,
   "id": "9d48f224",
   "metadata": {},
   "outputs": [
    {
     "name": "stdout",
     "output_type": "stream",
     "text": [
      "=> Get direct children, containers are Nodes:\n",
      "{'config': <cafram2.mixins.tree.NodeConfDict object at 0x7facd2eaff10>,\n",
      " 'namespace': 'username',\n",
      " 'repos': <cafram2.mixins.tree.NodeConfList object at 0x7facd2eafe20>}\n",
      "\n",
      "=> Get children reccursively, containers are values:\n",
      "{'config': {'branches': ['main'],\n",
      "            'desc': 'This is a description',\n",
      "            'enabled': True,\n",
      "            'remote': 'http://gitlab.com/',\n",
      "            'var_files': ['first.env', 'second.env']},\n",
      " 'namespace': 'username',\n",
      " 'repos': [{'name': 'my_repo1.git'},\n",
      "           {'branches': ['main', 'develop'],\n",
      "            'enabled': False,\n",
      "            'name': 'my_repo2.git'},\n",
      "           'my_repo3.git']}\n",
      "\n",
      "=> This also works on sub nodes:\n",
      "{'branches': <cafram2.mixins.tree.NodeConfList object at 0x7facd2eafb80>,\n",
      " 'desc': 'This is a description',\n",
      " 'enabled': True,\n",
      " 'remote': 'http://gitlab.com/',\n",
      " 'var_files': <cafram2.mixins.tree.NodeConfList object at 0x7facd2eafb50>}\n",
      "\n",
      "=> And recursively on sub nodes:\n",
      "{'branches': ['main'],\n",
      " 'desc': 'This is a description',\n",
      " 'enabled': True,\n",
      " 'remote': 'http://gitlab.com/',\n",
      " 'var_files': ['first.env', 'second.env']}\n"
     ]
    }
   ],
   "source": [
    "from pprint import pprint\n",
    "\n",
    "print(\"=> Get direct children, containers are Nodes:\")\n",
    "pprint (app.conf.get_children())\n",
    "\n",
    "print(\"\\n=> Get children reccursively, containers are values:\")\n",
    "pprint (app.conf.get_children(-1))\n",
    "\n",
    "print(\"\\n=> This also works on sub nodes:\")\n",
    "pprint (app.config.conf.get_children())\n",
    "\n",
    "print(\"\\n=> And recursively on sub nodes:\")\n",
    "pprint (app.config.conf.get_children(-1))"
   ]
  },
  {
   "cell_type": "markdown",
   "id": "bd0a27e6",
   "metadata": {},
   "source": [
    "This way can be discovered the app structure, and you can navigate between nodes. Let's select a node to try parents relationship now:"
   ]
  },
  {
   "cell_type": "code",
   "execution_count": 24,
   "id": "aa7b68aa",
   "metadata": {},
   "outputs": [
    {
     "data": {
      "text/plain": [
       "<cafram2.mixins.tree.NodeConfList at 0x7facd2eafb50>"
      ]
     },
     "execution_count": 24,
     "metadata": {},
     "output_type": "execute_result"
    }
   ],
   "source": [
    "sub_conf = app.config.var_files\n",
    "sub_conf\n"
   ]
  },
  {
   "cell_type": "markdown",
   "id": "99737081",
   "metadata": {},
   "source": [
    "Let's find out parents:"
   ]
  },
  {
   "cell_type": "code",
   "execution_count": 26,
   "id": "e84a57c5",
   "metadata": {},
   "outputs": [
    {
     "name": "stdout",
     "output_type": "stream",
     "text": [
      "[<cafram2.ctrl.NodeCtrl object at 0x7facd2eafdf0>,\n",
      " <cafram2.ctrl.NodeCtrl object at 0x7facf4d4fdf0>]\n"
     ]
    }
   ],
   "source": [
    "parents = sub_conf.conf.get_parents()\n",
    "pprint(parents)"
   ]
  },
  {
   "cell_type": "markdown",
   "id": "178cd53e",
   "metadata": {},
   "source": [
    "Where nodes are actually:"
   ]
  },
  {
   "cell_type": "code",
   "execution_count": 27,
   "id": "c0fdbd2d",
   "metadata": {},
   "outputs": [
    {
     "name": "stdout",
     "output_type": "stream",
     "text": [
      "=> First parent:\n",
      "enabled: true\n",
      "desc: This is a description\n",
      "remote: http://gitlab.com/\n",
      "branches:\n",
      "- main\n",
      "var_files:\n",
      "- first.env\n",
      "- second.env\n",
      "\n",
      "\n",
      "=> Second parent:\n",
      "namespace: username\n",
      "config:\n",
      "  enabled: true\n",
      "  desc: This is a description\n",
      "  remote: http://gitlab.com/\n",
      "  branches:\n",
      "  - main\n",
      "  var_files:\n",
      "  - first.env\n",
      "  - second.env\n",
      "repos:\n",
      "- name: my_repo1.git\n",
      "- name: my_repo2.git\n",
      "  branches:\n",
      "  - main\n",
      "  - develop\n",
      "  enabled: false\n",
      "- my_repo3.git\n",
      "\n"
     ]
    }
   ],
   "source": [
    "print (\"=> First parent:\")\n",
    "print(parents[0].conf.to_yaml())\n",
    "\n",
    "print (\"\\n=> Second parent:\")\n",
    "print(parents[1].conf.to_yaml())"
   ]
  },
  {
   "cell_type": "markdown",
   "id": "1dfad407",
   "metadata": {},
   "source": [
    "We've seen most basic usage of the NodeDictConf, but there is more. To find out what is achievable, checkout internal mixin documentation:"
   ]
  },
  {
   "cell_type": "code",
   "execution_count": 29,
   "id": "3e38fe59",
   "metadata": {},
   "outputs": [
    {
     "name": "stdout",
     "output_type": "stream",
     "text": [
      "Documentation for: cafram2.mixins.tree.ConfListMixin\n",
      "  Usage:\n",
      "    Conf mixin that manage a serializable list of values\n",
      "    \n",
      "        Usage:\n",
      "          ConfListMixin(node_ctrl, mixin_conf=None)\n",
      "          ConfListMixin(node_ctrl, mixin_conf=[ConfDictMixin])\n",
      "\n",
      "    \n",
      "  Mixins inheritance:\n",
      "    - builtins.object\n",
      "    - cafram2.common.CaframObj\n",
      "    - cafram2.common.CaframMixin\n",
      "    - cafram2.mixins.BaseMixin\n",
      "    - cafram2.mixins.tree.PayloadMixin\n",
      "    - cafram2.mixins.tree.HierParentMixin\n",
      "    - cafram2.mixins.tree.ConfMixin\n",
      "    - cafram2.mixins.tree.HierChildrenMixin\n",
      "    - cafram2.mixins.tree.ConfContainerMixin\n",
      "    - cafram2.mixins.tree.ConfListMixin\n",
      "\n",
      "  Parameters:\n",
      "    children: True\n",
      "    children_param: children\n",
      "    mixin_conf: {'mixin': <class 'cafram2.mixins.tree.ConfListMixin'>}\n",
      "    name: conf\n",
      "    name_param: payload\n",
      "    parent_param: parent\n",
      "    value: ['first.env', 'second.env']\n",
      "    value_alias: value\n",
      "\n",
      "  Methods:\n",
      "    add_child(child, index=None, alias=True):\n",
      "      Add a new child to mixin\n",
      "    doc(details=False):\n",
      "      Show mixin internal documentation\n",
      "    dump(stdout=True, details=False, ignore=None):\n",
      "      Dump mixin for debugging purpose\n",
      "    from_json(payload):\n",
      "      Import value from json string\n",
      "    from_yaml(payload):\n",
      "      Import value from yaml string\n",
      "    get_children(level=0):\n",
      "      <Missing>\n",
      "    get_parent(ctrl=True):\n",
      "      Return direct parent\n",
      "    get_parents(ctrl=True, level=-1):\n",
      "      Return all parents\n",
      "    get_value():\n",
      "      Get a value\n",
      "    is_mutable():\n",
      "      Check if value is mutable or not\n",
      "    schema():\n",
      "      Return json schema for payload\n",
      "    set_value(value):\n",
      "      Set a value\n",
      "    to_json():\n",
      "      Export value from json string\n",
      "    to_yaml():\n",
      "      Export value from yaml string\n",
      "    transform(payload):\n",
      "      Transform payload before\n",
      "    validate(payload):\n",
      "      Validate config against json schema\n",
      "\n",
      "  Other:\n",
      "    node_ctrl(NodeCtrl): <cafram2.ctrl.NodeCtrl object at 0x7facd2eaf9d0>\n",
      "\n",
      "  JSON Doc:\n",
      "    name(None): Mixin name\n",
      "      Name of the mixin. Does not keep alias if name is\n",
      "      set to `None` or starting with a `.` (dot)\n",
      "\n",
      "    mixin(None): Mixin class\n",
      "      Mixin class to use\n",
      "\n",
      "    name_param(payload): Mixin name parameter\n",
      "      Name of the parameter to load name from\n",
      "\n",
      "    value_alias(value): Value alias name\n",
      "      Name of the alias to retrieve value. Absent if set\n",
      "      to None\n",
      "\n",
      "    payload_schema(False): Payload schema\n",
      "      Json schema that must validate payload\n",
      "\n",
      "    children(True): Children configuration\n",
      "      `False` does not generate children, `null` does\n",
      "      generate 1 level children, `True` generate\n",
      "      recursively all children. A `dict` can also be\n",
      "      provided in `ConfDictMixin` case\n",
      "\n"
     ]
    }
   ],
   "source": [
    "sub_conf.conf.doc()"
   ]
  },
  {
   "cell_type": "markdown",
   "id": "f6c7ad7e",
   "metadata": {},
   "source": [
    "## Data validation\n",
    "\n",
    "TODO"
   ]
  },
  {
   "cell_type": "code",
   "execution_count": null,
   "id": "7238e6ab",
   "metadata": {},
   "outputs": [],
   "source": []
  },
  {
   "cell_type": "code",
   "execution_count": null,
   "id": "0b435386",
   "metadata": {},
   "outputs": [],
   "source": []
  },
  {
   "cell_type": "markdown",
   "id": "414cba8c",
   "metadata": {},
   "source": [
    "# Understand mixins API\n",
    "\n",
    "There are some pythonic ways to see how mixins works. It is possible to get a technical overview of config parameters, but also mixins methods and other informations. To get more information on `ConfDictMixin` :"
   ]
  },
  {
   "cell_type": "code",
   "execution_count": 19,
   "id": "ac1337f3",
   "metadata": {},
   "outputs": [
    {
     "name": "stdout",
     "output_type": "stream",
     "text": [
      "Default mixin name: conf (instead of debug)\n",
      "\n",
      "Documentation for: cafram2.tools.MixinLoaderInst\n",
      "  Usage:\n",
      "    <Missing>\n",
      "  Mixins inheritance:\n",
      "    - builtins.object\n",
      "    - cafram2.common.CaframObj\n",
      "    - cafram2.common.CaframMixin\n",
      "    - cafram2.mixins.BaseMixin\n",
      "    - cafram2.mixins.tree.PayloadMixin\n",
      "    - cafram2.mixins.tree.HierParentMixin\n",
      "    - cafram2.mixins.tree.ConfMixin\n",
      "    - cafram2.mixins.tree.HierChildrenMixin\n",
      "    - cafram2.mixins.tree.ConfContainerMixin\n",
      "    - cafram2.mixins.tree.ConfDictMixin\n",
      "    - cafram2.tools.MixinLoaderInst\n",
      "\n",
      "  Parameters:\n",
      "    children: True\n",
      "    children_param: children\n",
      "    mixin_conf: {'mixin': <class 'cafram2.tools.MixinLoader.__init__.<locals>.MixinLoaderInst'>}\n",
      "    name: debug\n",
      "    name_param: payload\n",
      "    parent_param: parent\n",
      "    value: None\n",
      "    value_alias: value\n",
      "\n",
      "  Methods:\n",
      "    add_child(child, index=None, alias=True):\n",
      "      Add a new child to mixin\n",
      "    doc(details=False):\n",
      "      Show mixin internal documentation\n",
      "    dump(stdout=True, details=False, ignore=None):\n",
      "      Dump mixin for debugging purpose\n",
      "    from_json(payload):\n",
      "      Import value from json string\n",
      "    from_yaml(payload):\n",
      "      Import value from yaml string\n",
      "    get_children(level=0):\n",
      "      <Missing>\n",
      "    get_parent(ctrl=True):\n",
      "      Return direct parent\n",
      "    get_parents(ctrl=True, level=-1):\n",
      "      Return all parents\n",
      "    get_value():\n",
      "      Get a value\n",
      "    is_mutable():\n",
      "      Check if value is mutable or not\n",
      "    schema():\n",
      "      Return json schema for payload\n",
      "    set_value(value):\n",
      "      Set a value\n",
      "    to_json():\n",
      "      Export value from json string\n",
      "    to_yaml():\n",
      "      Export value from yaml string\n",
      "    transform(payload):\n",
      "      Transform payload before\n",
      "    validate(payload):\n",
      "      Validate config against json schema\n",
      "\n",
      "  Other:\n",
      "    node_ctrl(NodeCtrl): <cafram2.ctrl.NodeCtrl object at 0x7facd2eaf160>\n",
      "\n",
      "  JSON Doc:\n",
      "    name(None): Mixin name\n",
      "      Name of the mixin. Does not keep alias if name is\n",
      "      set to `None` or starting with a `.` (dot)\n",
      "\n",
      "    mixin(None): Mixin class\n",
      "      Mixin class to use\n",
      "\n",
      "    name_param(payload): Mixin name parameter\n",
      "      Name of the parameter to load name from\n",
      "\n",
      "    value_alias(value): Value alias name\n",
      "      Name of the alias to retrieve value. Absent if set\n",
      "      to None\n",
      "\n",
      "    payload_schema(False): Payload schema\n",
      "      Json schema that must validate payload\n",
      "\n",
      "    children(True): Children configuration\n",
      "      `False` does not generate children, `null` does\n",
      "      generate 1 level children, `True` generate\n",
      "      recursively all children. A `dict` can also be\n",
      "      provided in `ConfDictMixin` case\n",
      "\n"
     ]
    }
   ],
   "source": [
    "from cafram2.tools import MixinLoader\n",
    "\n",
    "MixinLoader(ConfDictMixin).doc()"
   ]
  },
  {
   "cell_type": "markdown",
   "id": "29b19b3b",
   "metadata": {},
   "source": [
    "Every mixin should provide such informations. However, if you want to get an overview of a mixin instance, while you're debugging, you can use mixin.dump(). It also works on NodeCtrl."
   ]
  },
  {
   "cell_type": "code",
   "execution_count": null,
   "id": "34434f1a",
   "metadata": {},
   "outputs": [],
   "source": []
  },
  {
   "cell_type": "code",
   "execution_count": null,
   "id": "f61d9d81",
   "metadata": {},
   "outputs": [],
   "source": []
  },
  {
   "cell_type": "code",
   "execution_count": null,
   "id": "f7051c83",
   "metadata": {},
   "outputs": [],
   "source": []
  },
  {
   "cell_type": "code",
   "execution_count": null,
   "id": "480ffd04",
   "metadata": {},
   "outputs": [],
   "source": []
  },
  {
   "cell_type": "code",
   "execution_count": null,
   "id": "7f39d02e",
   "metadata": {},
   "outputs": [],
   "source": [
    "\n"
   ]
  },
  {
   "cell_type": "code",
   "execution_count": null,
   "id": "6a60f368",
   "metadata": {},
   "outputs": [],
   "source": []
  },
  {
   "cell_type": "code",
   "execution_count": null,
   "id": "29809f70",
   "metadata": {},
   "outputs": [],
   "source": []
  },
  {
   "cell_type": "code",
   "execution_count": null,
   "id": "33e8d520",
   "metadata": {},
   "outputs": [],
   "source": []
  },
  {
   "cell_type": "markdown",
   "id": "ce7b6962",
   "metadata": {},
   "source": []
  },
  {
   "cell_type": "code",
   "execution_count": null,
   "id": "11861390",
   "metadata": {},
   "outputs": [],
   "source": []
  },
  {
   "cell_type": "code",
   "execution_count": null,
   "id": "82e63aac",
   "metadata": {},
   "outputs": [],
   "source": []
  },
  {
   "cell_type": "code",
   "execution_count": null,
   "id": "9042fdac",
   "metadata": {},
   "outputs": [],
   "source": []
  },
  {
   "cell_type": "code",
   "execution_count": null,
   "id": "51ce6312",
   "metadata": {},
   "outputs": [],
   "source": []
  },
  {
   "cell_type": "code",
   "execution_count": null,
   "id": "ee418e58",
   "metadata": {},
   "outputs": [],
   "source": []
  },
  {
   "cell_type": "code",
   "execution_count": null,
   "id": "ebb50e62",
   "metadata": {},
   "outputs": [],
   "source": []
  },
  {
   "cell_type": "code",
   "execution_count": null,
   "id": "d6b21627",
   "metadata": {},
   "outputs": [],
   "source": []
  },
  {
   "cell_type": "code",
   "execution_count": null,
   "id": "f5026d74",
   "metadata": {},
   "outputs": [],
   "source": []
  },
  {
   "cell_type": "code",
   "execution_count": null,
   "id": "262bb3c2",
   "metadata": {},
   "outputs": [],
   "source": []
  },
  {
   "cell_type": "code",
   "execution_count": null,
   "id": "05994f8b",
   "metadata": {},
   "outputs": [],
   "source": []
  },
  {
   "cell_type": "code",
   "execution_count": null,
   "id": "9ea14927",
   "metadata": {},
   "outputs": [],
   "source": []
  },
  {
   "cell_type": "code",
   "execution_count": null,
   "id": "e80c65bd",
   "metadata": {},
   "outputs": [],
   "source": []
  },
  {
   "cell_type": "code",
   "execution_count": null,
   "id": "c777ec22",
   "metadata": {},
   "outputs": [],
   "source": []
  },
  {
   "cell_type": "code",
   "execution_count": null,
   "id": "80c8043d",
   "metadata": {},
   "outputs": [],
   "source": []
  },
  {
   "cell_type": "code",
   "execution_count": null,
   "id": "a416a9e8",
   "metadata": {},
   "outputs": [],
   "source": []
  },
  {
   "cell_type": "code",
   "execution_count": null,
   "id": "360a42bc",
   "metadata": {},
   "outputs": [],
   "source": []
  },
  {
   "cell_type": "code",
   "execution_count": null,
   "id": "4b5dc144",
   "metadata": {},
   "outputs": [],
   "source": []
  },
  {
   "cell_type": "code",
   "execution_count": null,
   "id": "bf5b0ccc",
   "metadata": {},
   "outputs": [],
   "source": []
  },
  {
   "cell_type": "code",
   "execution_count": null,
   "id": "85f91a59",
   "metadata": {},
   "outputs": [],
   "source": []
  }
 ],
 "metadata": {
  "kernelspec": {
   "display_name": "Python 3 (ipykernel)",
   "language": "python",
   "name": "python3"
  },
  "language_info": {
   "codemirror_mode": {
    "name": "ipython",
    "version": 3
   },
   "file_extension": ".py",
   "mimetype": "text/x-python",
   "name": "python",
   "nbconvert_exporter": "python",
   "pygments_lexer": "ipython3",
   "version": "3.10.9"
  }
 },
 "nbformat": 4,
 "nbformat_minor": 5
}
